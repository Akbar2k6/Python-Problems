{
 "cells": [
  {
   "cell_type": "markdown",
   "id": "95bfcffe-c859-4704-b1d9-abc4d6d29187",
   "metadata": {},
   "source": [
    "# Q1. Which keyword is used to create a function? Create a function to return a list of odd numbers in the range of 1 to 25."
   ]
  },
  {
   "cell_type": "code",
   "execution_count": 1,
   "id": "74735f80-3150-4b66-ac63-abb6ba5478b1",
   "metadata": {},
   "outputs": [
    {
     "data": {
      "text/plain": [
       "[1, 3, 5, 7, 9, 11, 13, 15, 17, 19, 21, 23, 25]"
      ]
     },
     "execution_count": 1,
     "metadata": {},
     "output_type": "execute_result"
    }
   ],
   "source": [
    "#def is the keyword to create a function\n",
    "\n",
    "def odd_num(num1, num2):\n",
    "    l = []\n",
    "    for i in range(num1, num2 + 1):\n",
    "        if i%2 != 0:\n",
    "            l.append(i)\n",
    "    return l\n",
    "\n",
    "odd_num(1, 25)"
   ]
  },
  {
   "cell_type": "markdown",
   "id": "76df8664-3365-4667-ab18-b1c69b1ee7a1",
   "metadata": {},
   "source": [
    "# Q2. Why *args and **kwargs is used in some functions? Create a function each for *args and **kwargs to demonstrate their use."
   ]
  },
  {
   "cell_type": "markdown",
   "id": "d9f7e970-c820-4105-9ca7-0f250e180a2a",
   "metadata": {},
   "source": [
    "*args specifies the number of non-keyworded arguments that can be passed and the operations that can be performed on the function in Python whereas **kwargs is a variable number of keyworded arguments that can be passed to a function that can perform dictionary operations.\n",
    "\n",
    "Python has *args, which allows us to pass a variable number of non-keyword arguments to a function. Non-keyword here means that the arguments should not be a dictionary (key-value pair), and they can be numbers or strings.\n",
    "\n",
    "One thing to note here is that \"args\" is just an identifier. It can be named anything relevant.\n",
    "\n",
    "When an asterisk(*) is passed before the variable name in a Python function, then Python understands that here the number of arguments is not fixed. Python makes a tuple of these arguments with the name we use after the asterisk(*) and makes this variable available to us inside the function. This asterisk(*) is called an “unpacking operator”. \n",
    "\n",
    "This variable is then available to us inside the function, and we can use it to perform any operation we want. In our case, we iterated (looped) over it and calculated the product of all the numbers.\n",
    "\n",
    "**kwargs allows us to pass any number of keyword arguments.\n",
    "\n",
    "In Python, these keyword arguments are passed to the program as a Python dictionary.\n",
    "\n",
    "Python will consider any variable name with two asterisks(**) before it as a keyword argument."
   ]
  },
  {
   "cell_type": "code",
   "execution_count": 2,
   "id": "d90e4c32-7c51-48a7-9ffb-3e3ea71e26a4",
   "metadata": {},
   "outputs": [],
   "source": [
    "def args_list(*args):\n",
    "    l = []\n",
    "    for i in args:\n",
    "        if type(i) == list :\n",
    "            l.append(i)\n",
    "    return l"
   ]
  },
  {
   "cell_type": "code",
   "execution_count": 3,
   "id": "03bc0ac1-54db-4fc8-b2a0-1bd51dbf3f05",
   "metadata": {},
   "outputs": [
    {
     "data": {
      "text/plain": [
       "[[1, 2, 3], ['d', 'e', 'f'], [4, 5, 6]]"
      ]
     },
     "execution_count": 3,
     "metadata": {},
     "output_type": "execute_result"
    }
   ],
   "source": [
    "args_list(1,2, (3, 4), {5, 6}, [1,2,3],('a','b','c'), ['d', 'e', 'f'], 'aman', 'amit', [4,5,6])"
   ]
  },
  {
   "cell_type": "code",
   "execution_count": 4,
   "id": "b9e5cdd9-9702-48d8-8fba-6d87014a4192",
   "metadata": {},
   "outputs": [],
   "source": [
    "def kwrgs_test(**kwargs):\n",
    "    for i in kwargs.keys():\n",
    "        if type(kwargs [i] ) == list :\n",
    "            return i , kwargs[i]"
   ]
  },
  {
   "cell_type": "code",
   "execution_count": 5,
   "id": "bf0e4baa-671c-4af1-a39f-a5119b435910",
   "metadata": {},
   "outputs": [
    {
     "data": {
      "text/plain": [
       "('c', [6, 7, 8])"
      ]
     },
     "execution_count": 5,
     "metadata": {},
     "output_type": "execute_result"
    }
   ],
   "source": [
    "kwrgs_test( a = 123, b = ('3', '4', '5'), c = [6, 7, 8])"
   ]
  },
  {
   "cell_type": "markdown",
   "id": "2867d931-3439-4e4c-8820-536d3b583c63",
   "metadata": {},
   "source": [
    "# Q3. What is an iterator in python? Name the method used to initialise the iterator object and the method used for iteration. Use these methods to print the first five elements of the given list [2, 4, 6, 8, 10, 12, 14, 16, 18, 20]."
   ]
  },
  {
   "cell_type": "markdown",
   "id": "54ee5af6-b2f2-4f71-b4fe-0a3d6560c2cf",
   "metadata": {},
   "source": [
    "An iterator in Python is an object that can be iterated (looped) upon, meaning that we can traverse through all the values of an iterator using a loop.\n",
    "\n",
    "An iterator in Python must implement two methods:\n",
    "\n",
    "- __iter__(): Returns the iterator object itself.\n",
    "- __next__(): Returns the next value from the iterator.\n",
    "To initialize an iterator object, you we use the iter() function, which takes an iterable (such as a list, tuple, or string) as an argument and returns an iterator object.\n",
    "\n",
    "To iterate through the iterator, you we use a loop or the built-in next() function. When there are no more values to iterate through, the __next__() method raises a StopIteration exception."
   ]
  },
  {
   "cell_type": "code",
   "execution_count": 6,
   "id": "93aa0baf-32e9-4b3d-b58d-7360df66c005",
   "metadata": {},
   "outputs": [
    {
     "name": "stdout",
     "output_type": "stream",
     "text": [
      "2\n",
      "4\n",
      "6\n",
      "8\n",
      "10\n"
     ]
    }
   ],
   "source": [
    "l = [2, 4, 6, 8, 10, 12, 14, 16, 18, 20]\n",
    "iter_obj = iter(l)  # initialize iterator object\n",
    "for i in range(5):\n",
    "    print(next(iter_obj))  # print next value from iterator\n"
   ]
  },
  {
   "cell_type": "markdown",
   "id": "e46d90fa-0747-4870-bc6a-a44deb8805c3",
   "metadata": {},
   "source": [
    "# Q4. What is a generator function in python? Why yield keyword is used? Give an example of a generator function."
   ]
  },
  {
   "cell_type": "markdown",
   "id": "7709ceda-1508-4111-ad6c-672f8633473a",
   "metadata": {},
   "source": [
    "In Python, a generator is a function that returns an iterator that produces a sequence of values when iterated over. Generators are useful when we want to produce a large sequence of values, but we don't want to store all of them in memory at once.\n",
    "\n",
    "In a generator function, a yield statement is used rather than a return statement. \n",
    "\n",
    "The generator function cannot include the return keyword. If you include it, then it will terminate the function. The difference between yield and return is that yield returns a value and pauses the execution while maintaining the internal states, whereas the return statement returns a value and terminates the execution of the function."
   ]
  },
  {
   "cell_type": "code",
   "execution_count": 7,
   "id": "93603e79-4a40-4a6d-baf2-e998e085d2de",
   "metadata": {},
   "outputs": [
    {
     "name": "stdout",
     "output_type": "stream",
     "text": [
      "10\n",
      "20\n",
      "30\n"
     ]
    }
   ],
   "source": [
    "#example\n",
    "\n",
    "def gen_fun():\n",
    "    yield 10\n",
    "    yield 20\n",
    "    yield 30\n",
    "    \n",
    "for i in gen_fun():\n",
    "    print(i)"
   ]
  },
  {
   "cell_type": "markdown",
   "id": "c6448ed8-ec40-4ce8-9703-8e84d6fb2ff0",
   "metadata": {},
   "source": [
    "# Q5. Create a generator function for prime numbers less than 1000. Use the next() method to print the first 20 prime numbers."
   ]
  },
  {
   "cell_type": "code",
   "execution_count": 8,
   "id": "1cf907bf-e92f-4c46-9bf6-422543a3e1a7",
   "metadata": {},
   "outputs": [],
   "source": [
    "def prime_numbers():\n",
    "    \"\"\"\n",
    "    Generator function that yields prime numbers less than 1000\n",
    "    \"\"\"\n",
    "    primes = []\n",
    "    num = 2\n",
    "    while num < 1000:\n",
    "        is_prime = True\n",
    "        for prime in primes:\n",
    "            if num % prime == 0:\n",
    "                is_prime = False\n",
    "                break\n",
    "        if is_prime:\n",
    "            primes.append(num)\n",
    "            yield num\n",
    "        num = num + 1"
   ]
  },
  {
   "cell_type": "code",
   "execution_count": 9,
   "id": "9c4c1597-0465-44fd-a607-f60129f5f280",
   "metadata": {},
   "outputs": [
    {
     "name": "stdout",
     "output_type": "stream",
     "text": [
      "2\n",
      "3\n",
      "5\n",
      "7\n",
      "11\n",
      "13\n",
      "17\n",
      "19\n",
      "23\n",
      "29\n",
      "31\n",
      "37\n",
      "41\n",
      "43\n",
      "47\n",
      "53\n",
      "59\n",
      "61\n",
      "67\n",
      "71\n"
     ]
    }
   ],
   "source": [
    "generator = prime_numbers()\n",
    "for i in range(20):\n",
    "    print(next(generator))"
   ]
  },
  {
   "cell_type": "code",
   "execution_count": null,
   "id": "6575daa8-ae08-4a71-a606-eb26b75531f1",
   "metadata": {},
   "outputs": [],
   "source": []
  }
 ],
 "metadata": {
  "kernelspec": {
   "display_name": "Python 3 (ipykernel)",
   "language": "python",
   "name": "python3"
  },
  "language_info": {
   "codemirror_mode": {
    "name": "ipython",
    "version": 3
   },
   "file_extension": ".py",
   "mimetype": "text/x-python",
   "name": "python",
   "nbconvert_exporter": "python",
   "pygments_lexer": "ipython3",
   "version": "3.10.8"
  }
 },
 "nbformat": 4,
 "nbformat_minor": 5
}
