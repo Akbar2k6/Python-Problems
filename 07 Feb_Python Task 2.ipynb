{
 "cells": [
  {
   "cell_type": "markdown",
   "id": "f256a96b-b096-455c-a743-82a67677fe96",
   "metadata": {},
   "source": [
    "# Q1. You are writing code for a company. The requirement of the company is that you create a python function that will check whether the password entered by the user is correct or not. The function should take the password as input and return the string “Valid Password” if the entered password follows the below-given password guidelines else it should return “Invalid Password”.\n",
    "\n",
    "Note: \n",
    "1. The Password should contain at least two uppercase letters and at least two lowercase letters.\n",
    "2. The Password should contain at least a number and three special characters.\n",
    "3. The length of the password should be 10 characters long."
   ]
  },
  {
   "cell_type": "code",
   "execution_count": 1,
   "id": "eb898778-0520-4eaf-a804-ce21c95afa10",
   "metadata": {},
   "outputs": [],
   "source": [
    "def check_password(password):\n",
    "    # Check length of password\n",
    "    if len(password) != 10:\n",
    "        return \"Invalid Password\"\n",
    "\n",
    "    # Initialize counters\n",
    "    uppercase_count = 0\n",
    "    lowercase_count = 0\n",
    "    number_count = 0\n",
    "    special_count = 0\n",
    "\n",
    "    # Check each character in password\n",
    "    for char in password:\n",
    "        if char.isupper():\n",
    "            uppercase_count += 1\n",
    "        elif char.islower():\n",
    "            lowercase_count += 1\n",
    "        elif char.isdigit():\n",
    "            number_count += 1\n",
    "        elif char in \"!@#$%^&*()_+-=\":\n",
    "            special_count += 1\n",
    "\n",
    "    # Check if password meets requirements\n",
    "    if uppercase_count >= 2 and lowercase_count >= 2 and number_count >= 1 and special_count >= 3:\n",
    "        return \"Valid Password\"\n",
    "    else:\n",
    "        return \"Invalid Password\"\n"
   ]
  },
  {
   "cell_type": "code",
   "execution_count": 2,
   "id": "94510dcf-840a-4682-8925-74d1e2d4053d",
   "metadata": {},
   "outputs": [
    {
     "data": {
      "text/plain": [
       "'Invalid Password'"
      ]
     },
     "execution_count": 2,
     "metadata": {},
     "output_type": "execute_result"
    }
   ],
   "source": [
    "check_password('Asss12!@#$')"
   ]
  },
  {
   "cell_type": "markdown",
   "id": "95030904-5393-489a-8926-b729ffd4b882",
   "metadata": {},
   "source": [
    "# Q2. Solve the below-given questions using at least one of the following:\n",
    "1. Lambda function\n",
    "2. Filter function\n",
    "3. Zap function\n",
    "4. List Comprehension\n",
    "- Check if the string starts with a particular letter\n",
    "- Check if the string is numeric\n",
    "- Sort a list of tuples having fruit names and their quantity. [(\"mango\",99),(\"orange\",80), (\"grapes\", 1000)]\n",
    "- Find the squares of numbers from 1 to 10\n",
    "- Find the cube root of numbers from 1 to 10\n",
    "- Check if a given number is even\n",
    "- Filter odd numbers from the given list.\n",
    "[1,2,3,4,5,6,7,8,9,10]\n",
    "- Sort a list of integers into positive and negative integers lists.\n",
    "[1,2,3,4,5,6,-1,-2,-3,-4,-5,0]"
   ]
  },
  {
   "cell_type": "markdown",
   "id": "a3a75d4e-1348-4d5f-93ec-7893e5ae3409",
   "metadata": {},
   "source": [
    "### Check if the string starts with a particular letter using Lambda function\n"
   ]
  },
  {
   "cell_type": "code",
   "execution_count": 3,
   "id": "b586a0d7-a4d6-47cf-a27b-adc325012d7d",
   "metadata": {},
   "outputs": [
    {
     "name": "stdout",
     "output_type": "stream",
     "text": [
      "['banana']\n"
     ]
    }
   ],
   "source": [
    "# Check if the string starts with a particular letter using Lambda function\n",
    "\n",
    "strings = [\"apple\", \"banana\", \"cherry\", \"date\"]\n",
    "letter = \"b\"\n",
    "filtered_strings = list(filter(lambda s: s.startswith(letter), strings))\n",
    "print(filtered_strings)  "
   ]
  },
  {
   "cell_type": "markdown",
   "id": "3b365013-4b0a-4559-bb09-6fabe98c20d3",
   "metadata": {},
   "source": [
    "### Check if the string is numeric using Lambda Function\n"
   ]
  },
  {
   "cell_type": "code",
   "execution_count": 4,
   "id": "ffe23843-cbe3-4bbb-9b8f-e980a0b2e70f",
   "metadata": {},
   "outputs": [
    {
     "name": "stdout",
     "output_type": "stream",
     "text": [
      "True\n",
      "False\n"
     ]
    }
   ],
   "source": [
    "# Check if the string is numeric using Lambda Function\n",
    "\n",
    "is_numeric = lambda s: s.isdigit()\n",
    "\n",
    "# Example usage:\n",
    "print(is_numeric(\"123\"))  \n",
    "print(is_numeric(\"abc\"))  "
   ]
  },
  {
   "cell_type": "code",
   "execution_count": 5,
   "id": "016f59d7-3c87-4879-bfd2-05ed7323dcb3",
   "metadata": {},
   "outputs": [],
   "source": [
    "# Check if the string is numeric using Filter Function\n",
    "\n",
    "strings = [\"123\", \"abc\", \"456\", \"def\"]\n",
    "numeric_strings = list(filter(lambda s: s.isdigit(), strings))\n"
   ]
  },
  {
   "cell_type": "markdown",
   "id": "d4f8d9bb-a280-483d-b927-3466a0ee3076",
   "metadata": {},
   "source": [
    "### Sort a list of tuples having fruit names and their quantity. [(\"mango\",99),(\"orange\",80), (\"grapes\", 1000)-\n"
   ]
  },
  {
   "cell_type": "code",
   "execution_count": 6,
   "id": "0f238daa-7abb-478c-a802-f53fd0f4758a",
   "metadata": {},
   "outputs": [
    {
     "name": "stdout",
     "output_type": "stream",
     "text": [
      "[('orange', 80), ('mango', 99), ('grapes', 1000)]\n"
     ]
    }
   ],
   "source": [
    "# Sorting a list of tuples using a lambda function:\n",
    "\n",
    "fruits = [(\"mango\", 99), (\"orange\", 80), (\"grapes\", 1000)]\n",
    "sorted_fruits = sorted(fruits, key=lambda x: x[1])\n",
    "print(sorted_fruits)\n"
   ]
  },
  {
   "cell_type": "code",
   "execution_count": 7,
   "id": "672011ac-79a8-4561-b46f-e9102a35a33d",
   "metadata": {},
   "outputs": [
    {
     "name": "stdout",
     "output_type": "stream",
     "text": [
      "[('mango', 99), ('orange', 80)]\n"
     ]
    }
   ],
   "source": [
    "# Sorting a list of tuples using the filter function:\n",
    "\n",
    "fruits = [(\"mango\", 99), (\"orange\", 80), (\"grapes\", 1000)]\n",
    "sorted_fruits = list(filter(lambda x: x[1] < 500, fruits))\n",
    "print(sorted_fruits)\n"
   ]
  },
  {
   "cell_type": "markdown",
   "id": "1ee415b6-9965-4690-8008-3d0929a9620b",
   "metadata": {},
   "source": [
    "### Find the squares of numbers from 1 to 10"
   ]
  },
  {
   "cell_type": "code",
   "execution_count": 8,
   "id": "fec729db-e25c-4f77-b874-aa4b4e09443e",
   "metadata": {},
   "outputs": [
    {
     "name": "stdout",
     "output_type": "stream",
     "text": [
      "[1, 4, 9, 16, 25, 36, 49, 64, 81, 100]\n"
     ]
    }
   ],
   "source": [
    "# Finding the squares of numbers from 1 to 10 using a lambda function:\n",
    "\n",
    "squares = list(map(lambda x: x**2, range(1,11)))\n",
    "print(squares)"
   ]
  },
  {
   "cell_type": "code",
   "execution_count": 9,
   "id": "d2ff5693-85aa-4e11-97c3-c037c9c9521a",
   "metadata": {},
   "outputs": [
    {
     "name": "stdout",
     "output_type": "stream",
     "text": [
      "[4, 16, 36, 64, 100]\n"
     ]
    }
   ],
   "source": [
    "# Finding the squares of numbers from 1 to 10 using the filter function:\n",
    "\n",
    "squares = list(filter(lambda x: x%2==0, map(lambda x: x**2, range(1,11))))\n",
    "print(squares)"
   ]
  },
  {
   "cell_type": "code",
   "execution_count": 10,
   "id": "038b4b49-f0ba-4f68-824c-b8905d1119a5",
   "metadata": {},
   "outputs": [
    {
     "name": "stdout",
     "output_type": "stream",
     "text": [
      "[1, 4, 9, 16, 25, 36, 49, 64, 81, 100]\n"
     ]
    }
   ],
   "source": [
    "# Finding the squares of numbers from 1 to 10 using list comprehension:\n",
    "\n",
    "squares = [x**2 for x in range(1,11)]\n",
    "print(squares)"
   ]
  },
  {
   "cell_type": "markdown",
   "id": "0fc43a66-9c32-4586-b3c9-eadaf4e53547",
   "metadata": {},
   "source": [
    "### Find the cube root of numbers from 1 to 10"
   ]
  },
  {
   "cell_type": "code",
   "execution_count": 11,
   "id": "08c43580-4c4f-4351-b49b-c84872a23dec",
   "metadata": {},
   "outputs": [
    {
     "name": "stdout",
     "output_type": "stream",
     "text": [
      "[1.0, 1.2599210498948732, 1.4422495703074083, 1.5874010519681994, 1.7099759466766968, 1.8171205928321397, 1.912931182772389, 2.0, 2.080083823051904, 2.154434690031884]\n"
     ]
    }
   ],
   "source": [
    "# Finding the cube root of numbers from 1 to 10 using Lambda function\n",
    "\n",
    "cube_root = lambda x: x**(1/3)\n",
    "result = list(map(cube_root, range(1, 11)))\n",
    "print(result)"
   ]
  },
  {
   "cell_type": "code",
   "execution_count": 12,
   "id": "8d30b073-6fbe-4dd1-b0cd-3340190dfbc0",
   "metadata": {},
   "outputs": [
    {
     "name": "stdout",
     "output_type": "stream",
     "text": [
      "[1.0, 1.2599210498948732, 1.4422495703074083, 1.5874010519681994, 1.7099759466766968, 1.8171205928321397, 1.912931182772389, 2.0, 2.080083823051904, 2.154434690031884]\n"
     ]
    }
   ],
   "source": [
    "# Finding the cube root of numbers from 1 to 10 using list comprehension:\n",
    "\n",
    "result = [x**(1/3) for x in range(1, 11)]\n",
    "print(result)"
   ]
  },
  {
   "cell_type": "markdown",
   "id": "b33c94b8-217b-4434-bf49-90ee38369522",
   "metadata": {},
   "source": [
    "### Check if a given number is even"
   ]
  },
  {
   "cell_type": "code",
   "execution_count": 13,
   "id": "15d3934b-a3d5-4c2a-904b-cf5d9a3c6ac7",
   "metadata": {},
   "outputs": [
    {
     "name": "stdout",
     "output_type": "stream",
     "text": [
      "True\n"
     ]
    }
   ],
   "source": [
    "#using Lambda function: \n",
    "\n",
    "is_even = lambda x: x % 2 == 0\n",
    "result = is_even(10)\n",
    "print(result)"
   ]
  },
  {
   "cell_type": "code",
   "execution_count": 14,
   "id": "a3cc5795-66af-452d-9e7d-ae5b6de2543b",
   "metadata": {},
   "outputs": [
    {
     "name": "stdout",
     "output_type": "stream",
     "text": [
      "[2, 4, 6, 8, 10]\n"
     ]
    }
   ],
   "source": [
    "# using Filter function:\n",
    "\n",
    "def is_even(x):\n",
    "    return x % 2 == 0\n",
    "\n",
    "result = list(filter(is_even, range(1, 11)))\n",
    "print(result)"
   ]
  },
  {
   "cell_type": "code",
   "execution_count": 15,
   "id": "2b5bded0-264f-465c-b51e-0cd9f06fe482",
   "metadata": {},
   "outputs": [
    {
     "name": "stdout",
     "output_type": "stream",
     "text": [
      "[2, 4, 6, 8, 10]\n"
     ]
    }
   ],
   "source": [
    "# using List comprehension:\n",
    "\n",
    "result = [x for x in range(1, 11) if x % 2 == 0]\n",
    "print(result)"
   ]
  },
  {
   "cell_type": "markdown",
   "id": "d4d0d926-17e8-46a5-87e8-26411293cbe8",
   "metadata": {},
   "source": [
    "### Filter odd numbers from the given list.\n",
    "[1,2,3,4,5,6,7,8,9,10]"
   ]
  },
  {
   "cell_type": "code",
   "execution_count": 16,
   "id": "b1e73af4-78f8-42d0-9e40-64b68085cdd6",
   "metadata": {},
   "outputs": [
    {
     "name": "stdout",
     "output_type": "stream",
     "text": [
      "[2, 4, 6, 8, 10]\n"
     ]
    }
   ],
   "source": [
    "# Using Lambda Function:\n",
    "\n",
    "lst = [1,2,3,4,5,6,7,8,9,10]\n",
    "filtered_lst = list(filter(lambda x: x%2==0, lst))\n",
    "print(filtered_lst)"
   ]
  },
  {
   "cell_type": "code",
   "execution_count": 17,
   "id": "3031d38d-523c-4cf3-b562-81831c697bb9",
   "metadata": {},
   "outputs": [
    {
     "name": "stdout",
     "output_type": "stream",
     "text": [
      "[2, 4, 6, 8, 10]\n"
     ]
    }
   ],
   "source": [
    "# Using List Comprehension:\n",
    "\n",
    "lst = [1,2,3,4,5,6,7,8,9,10]\n",
    "filtered_lst = [x for x in lst if x%2==0]\n",
    "print(filtered_lst)"
   ]
  },
  {
   "cell_type": "markdown",
   "id": "46d1626e-736a-4144-af2d-2af4959920b0",
   "metadata": {},
   "source": [
    "### Sort a list of integers into positive and negative integers lists.\n",
    "[1,2,3,4,5,6,-1,-2,-3,-4,-5,0]"
   ]
  },
  {
   "cell_type": "code",
   "execution_count": 18,
   "id": "c0129699-e5c9-45fd-93ce-befdcf9d4ba8",
   "metadata": {},
   "outputs": [
    {
     "name": "stdout",
     "output_type": "stream",
     "text": [
      "[1, 2, 3, 4, 5, 6]\n",
      "[-1, -2, -3, -4, -5]\n"
     ]
    }
   ],
   "source": [
    "# Using Lambda Function:\n",
    "\n",
    "lst = [1,2,3,4,5,6,-1,-2,-3,-4,-5,0]\n",
    "pos_lst = list(filter(lambda x: x>0, lst))\n",
    "neg_lst = list(filter(lambda x: x<0, lst))\n",
    "print(pos_lst)\n",
    "print(neg_lst)"
   ]
  },
  {
   "cell_type": "code",
   "execution_count": 19,
   "id": "2598a2a9-6fa2-4207-a834-ab214d3b000e",
   "metadata": {},
   "outputs": [
    {
     "name": "stdout",
     "output_type": "stream",
     "text": [
      "[1, 2, 3, 4, 5, 6]\n",
      "[-1, -2, -3, -4, -5]\n"
     ]
    }
   ],
   "source": [
    "# Using List Comprehension:\n",
    "\n",
    "lst = [1,2,3,4,5,6,-1,-2,-3,-4,-5,0]\n",
    "pos_lst = [x for x in lst if x>0]\n",
    "neg_lst = [x for x in lst if x<0]\n",
    "print(pos_lst)\n",
    "print(neg_lst)"
   ]
  }
 ],
 "metadata": {
  "kernelspec": {
   "display_name": "Python 3 (ipykernel)",
   "language": "python",
   "name": "python3"
  },
  "language_info": {
   "codemirror_mode": {
    "name": "ipython",
    "version": 3
   },
   "file_extension": ".py",
   "mimetype": "text/x-python",
   "name": "python",
   "nbconvert_exporter": "python",
   "pygments_lexer": "ipython3",
   "version": "3.10.8"
  }
 },
 "nbformat": 4,
 "nbformat_minor": 5
}
