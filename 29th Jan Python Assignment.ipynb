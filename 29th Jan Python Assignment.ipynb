{
 "cells": [
  {
   "cell_type": "markdown",
   "id": "4fe54264-80a6-445d-9e5b-f89961b3aa3a",
   "metadata": {},
   "source": [
    "# 1. Who developed Python Programming Language? "
   ]
  },
  {
   "cell_type": "markdown",
   "id": "8d393399-2ca4-4aba-a29e-9a338d61ab0c",
   "metadata": {},
   "source": [
    "### Ans: Guido van Rossum"
   ]
  },
  {
   "cell_type": "markdown",
   "id": "119a3da6-4438-4d5c-b3af-08f10d43ef57",
   "metadata": {},
   "source": [
    "# 2. Which type of Programming does Python support? \n"
   ]
  },
  {
   "cell_type": "markdown",
   "id": "6c515f3c-82b0-466b-8317-d92ada48a8cb",
   "metadata": {},
   "source": [
    "### Ans: Python is an interpreted programming language, supporting object-oriented, structured, and functional programming."
   ]
  },
  {
   "cell_type": "markdown",
   "id": "b328bc58-7a96-4a35-aa19-5095e33bc48b",
   "metadata": {},
   "source": [
    "# 3. Is Python case sensitive when dealing with identifiers? \n"
   ]
  },
  {
   "cell_type": "markdown",
   "id": "a9ba15cb-0a9e-4e1e-ac24-900a5b2c95dd",
   "metadata": {},
   "source": [
    "### Ans: Yes, It is case sensitive."
   ]
  },
  {
   "cell_type": "markdown",
   "id": "801217b9-7f4d-41f0-98fb-9fb64a95479d",
   "metadata": {},
   "source": [
    "# 4. What is the correct extension of the Python file? \n"
   ]
  },
  {
   "cell_type": "markdown",
   "id": "5b342ace-9b42-451a-9690-71f4e1a62e29",
   "metadata": {},
   "source": [
    "### Ans: The correct extension of python is .py and can be written in any text editor. We need to use the extension .py to save these files."
   ]
  },
  {
   "cell_type": "markdown",
   "id": "ebc55f29-0a17-4e2c-998e-9b10ef6aa78d",
   "metadata": {},
   "source": [
    "# 5. Is Python code compiled or interpreted? \n"
   ]
  },
  {
   "cell_type": "markdown",
   "id": "2fcf7a73-09e3-44d9-8f6d-2cdcd5b97693",
   "metadata": {},
   "source": [
    "### Ans: Python is both compiled as well as an interpreted language"
   ]
  },
  {
   "cell_type": "markdown",
   "id": "03d91177-e176-4db7-8aaa-87b887e0180d",
   "metadata": {},
   "source": [
    "# 6. Name a few blocks of code used to define in Python language? \n"
   ]
  },
  {
   "cell_type": "markdown",
   "id": "856eb8da-4979-4332-a980-afb2c8a7d606",
   "metadata": {},
   "source": [
    "### Ans: a module, a function body, and a class definition"
   ]
  },
  {
   "cell_type": "markdown",
   "id": "99ec96b0-b770-4238-afb8-bc3161f7f65f",
   "metadata": {},
   "source": [
    "# 7. State a character used to give single-line comments in Python? \n"
   ]
  },
  {
   "cell_type": "markdown",
   "id": "8108d829-cfeb-4657-bebb-d579ecde90a5",
   "metadata": {},
   "source": [
    "### Ans: We can write a single-line comment by adding a single # character before any statement or line of code"
   ]
  },
  {
   "cell_type": "markdown",
   "id": "7b6d70a4-71f6-4773-a40c-46a8ac338f32",
   "metadata": {},
   "source": [
    "# 8. Mention functions which can help us to find the version of python that we are currently working on? \n"
   ]
  },
  {
   "cell_type": "markdown",
   "id": "bb20d7dc-340e-488f-977a-448227fddd63",
   "metadata": {},
   "source": [
    "### Ans: The function sys. version can help us to find the version of python that we are currently working on."
   ]
  },
  {
   "cell_type": "markdown",
   "id": "5cc9530c-b0d6-4ba6-b2fc-6a441db456f7",
   "metadata": {},
   "source": [
    "# 9. Python supports the creation of anonymous functions at runtime, using a construct called _______\n"
   ]
  },
  {
   "cell_type": "markdown",
   "id": "83f65538-af5f-4d9f-b75f-4bcd7010046a",
   "metadata": {},
   "source": [
    "### Ans: lambda"
   ]
  },
  {
   "cell_type": "markdown",
   "id": "56ef7858-91d2-455a-bead-8f54381efe4d",
   "metadata": {},
   "source": [
    "# 10. What does pip stand for python? \n"
   ]
  },
  {
   "cell_type": "markdown",
   "id": "d2412e23-40f7-4b52-8ac5-bab067ff5d31",
   "metadata": {},
   "source": [
    "### Ans: PIP is a recursive acronym for “Preferred Installer Program” or PIP Installs Packages. It is a command-line utility that installs, reinstalls, or uninstalls PyPI packages with one simple command: pip."
   ]
  },
  {
   "cell_type": "markdown",
   "id": "8b0def97-533d-41b5-af11-9b342724f43a",
   "metadata": {},
   "source": [
    "# 11. Mention a few built-in functions in python? \n"
   ]
  },
  {
   "cell_type": "markdown",
   "id": "11e315ea-1cc9-45b0-9e5c-103b1369aece",
   "metadata": {},
   "source": [
    "### Ans: print(), type(), sum(), str(), sorted(), slice(), range(), max(), min(), list(), len(), int(), float(), bool(), etc."
   ]
  },
  {
   "cell_type": "markdown",
   "id": "1b617eaf-697b-48b4-9e05-b63b4ab3cf27",
   "metadata": {},
   "source": [
    "# 12. What is the maximum possible length of an identifier in Python? \n"
   ]
  },
  {
   "cell_type": "markdown",
   "id": "d69cbad7-9fdd-41ad-8fdb-3f91885c556f",
   "metadata": {},
   "source": [
    "### Ans: An identifier can have a maximum length of 79 characters in Python."
   ]
  },
  {
   "cell_type": "markdown",
   "id": "d601e785-5de0-450d-a00a-6bcead665222",
   "metadata": {},
   "source": [
    "# 13. What are the benefits of using Python? \n"
   ]
  },
  {
   "cell_type": "markdown",
   "id": "033f586f-7f4b-45cd-95e3-545053b5a209",
   "metadata": {},
   "source": [
    "### Ans: \n",
    "1. Easy to Read, Learn and Write\n",
    "2. Free and Open-Source\n",
    "3. Interpreted Language\n",
    "4. Extensive library\n",
    "5. Supportive community\n",
    "6. Visualization of data\n",
    "7. Artificial intelligence and machine learning\n",
    "8. Portability\n",
    "\n"
   ]
  },
  {
   "cell_type": "markdown",
   "id": "0fb26eb1-0d9a-43e1-98eb-9b25f06dd52f",
   "metadata": {},
   "source": [
    "# 14. How is memory managed in Python? "
   ]
  },
  {
   "cell_type": "markdown",
   "id": "eef98f9b-21e5-416d-876a-af048a0591a0",
   "metadata": {},
   "source": [
    "### Ans: Memory management in Python involves a private heap containing all Python objects and data structures. The management of this private heap is ensured internally by the Python memory manager."
   ]
  },
  {
   "cell_type": "markdown",
   "id": "4b78619e-7bf3-41a6-9a7b-ed3cae061436",
   "metadata": {},
   "source": [
    "# 15. How to install Python on Windows and set path variables? \n"
   ]
  },
  {
   "cell_type": "markdown",
   "id": "03a0d55f-4805-48f6-bb9f-74fc5c6355ce",
   "metadata": {},
   "source": [
    "### Ans: \n",
    "\n",
    "Go on Python.org at the section where you can download the windows executables:\n",
    "\n",
    "https://www.python.org/downloads/windows/\n",
    "\n",
    "Go down in the page and download the following executable (if your computer is 64 bits):\n",
    "Double click on the executable and install it\n",
    "\n",
    "After installation. Look for the location where PYTHON has been installed on your PC using tge following command on your command prompt: cmd python.\n",
    "Then go to advanced system settings and add new variable and name it as PYTHON_NAME and paste the copied path.\n",
    "Then look for the path variable, select it's value and select edit\n",
    "Add a semicolon towards the end of the value if it's not present and then type %PYTHON_HOME%\n"
   ]
  },
  {
   "cell_type": "markdown",
   "id": "0dede06d-2885-4608-aa8b-b65b1e595b76",
   "metadata": {},
   "source": [
    "# 16. Is indentation required in python? "
   ]
  },
  {
   "cell_type": "markdown",
   "id": "8fa09387-ea8f-49ed-b970-12b5c7c5600e",
   "metadata": {},
   "source": [
    "### Ans: Yes, indentation is necessary for Python. It specifies a block of code. All code within loops, classes, functions, etc., is defined within an indented block."
   ]
  },
  {
   "cell_type": "code",
   "execution_count": null,
   "id": "b8eb906c-0ee3-4aa6-ac20-b60f18cd05f3",
   "metadata": {},
   "outputs": [],
   "source": []
  }
 ],
 "metadata": {
  "kernelspec": {
   "display_name": "Python 3 (ipykernel)",
   "language": "python",
   "name": "python3"
  },
  "language_info": {
   "codemirror_mode": {
    "name": "ipython",
    "version": 3
   },
   "file_extension": ".py",
   "mimetype": "text/x-python",
   "name": "python",
   "nbconvert_exporter": "python",
   "pygments_lexer": "ipython3",
   "version": "3.10.8"
  }
 },
 "nbformat": 4,
 "nbformat_minor": 5
}
