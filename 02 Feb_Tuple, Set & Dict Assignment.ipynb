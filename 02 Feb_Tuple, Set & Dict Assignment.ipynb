{
 "cells": [
  {
   "cell_type": "markdown",
   "id": "60388f35-012c-4f56-afb1-cb35881be548",
   "metadata": {},
   "source": [
    "# Q1. What are the characteristics of the tuples? Is tuple immutable? \n"
   ]
  },
  {
   "cell_type": "markdown",
   "id": "6c4fa60b-8de4-4489-b998-5f7c4020ae66",
   "metadata": {},
   "source": [
    "### Ans: Tuples have the given characteristics:\n",
    "\n",
    "1. They are indexed\n",
    "2. Tuples are ordered\n",
    "3. These are immutable\n",
    "4. They can contain duplicate items\n",
    "\n",
    "### Yes, tuples are the immutable"
   ]
  },
  {
   "cell_type": "markdown",
   "id": "c5d0f4e7-50d0-4cb3-aac0-3875301a5ae7",
   "metadata": {},
   "source": [
    "# Q2. What are the two tuple methods in python? Give an example of each method. Give a reason why tuples have only two in-built methods as compared to Lists. \n"
   ]
  },
  {
   "cell_type": "markdown",
   "id": "1f89877b-c71f-416d-a2bd-2bd338d05634",
   "metadata": {},
   "source": [
    "Ans: Python has two built-in methods that you can use on tuples.\n",
    "\n",
    "Method\tDescription\n",
    "- count()\tReturns the number of times a specified value occurs in a tuple\n",
    "- index()\tSearches the tuple for a specified value and returns the position of where it was found \n"
   ]
  },
  {
   "cell_type": "code",
   "execution_count": 1,
   "id": "66edcad4-0b1b-49b8-bd19-32c997db92b3",
   "metadata": {},
   "outputs": [
    {
     "name": "stdout",
     "output_type": "stream",
     "text": [
      "Count of 3 in Tuple1 is: 3\n"
     ]
    }
   ],
   "source": [
    "# Example: Using the Tuple count() method \n",
    "\n",
    "Tuple1 = (0, 1, 2, 3, 2, 3, 1, 3, 2)\n",
    "\n",
    "# count the appearance of 3\n",
    "res = Tuple1.count(3)\n",
    "print('Count of 3 in Tuple1 is:', res)"
   ]
  },
  {
   "cell_type": "code",
   "execution_count": 2,
   "id": "fec2cc70-2d85-4cbc-adfb-e8820b3a8cbd",
   "metadata": {},
   "outputs": [
    {
     "name": "stdout",
     "output_type": "stream",
     "text": [
      "First occurrence of 3 is 3\n",
      "First occurrence of 3 after 4th index is: 5\n"
     ]
    }
   ],
   "source": [
    "# Example: Using Tuple Index() Method\n",
    "\n",
    "Tuple = (0, 1, 2, 3, 2, 3, 1, 3, 2)\n",
    "  \n",
    "# getting the index of 3\n",
    "\n",
    "res = Tuple.index(3)\n",
    "print('First occurrence of 3 is', res)\n",
    "  \n",
    "# getting the index of 3 after 4th index\n",
    "\n",
    "res = Tuple.index(3, 4)\n",
    "print('First occurrence of 3 after 4th index is:', res)"
   ]
  },
  {
   "cell_type": "markdown",
   "id": "697d5e46-0cf5-48f7-abbc-46a0b73d1d5f",
   "metadata": {},
   "source": [
    "### Tuples VS Lists:\n",
    "\n",
    "\n",
    "- We generally use tuples for heterogeneous (different) data types and lists for homogeneous (similar) data types.\n",
    "- Since tuples are immutable, iterating through a tuple is faster than with a list. So there is a slight performance boost.\n",
    "- Tuples that contain immutable elements can be used as a key for a dictionary. With lists, this is not possible.\n",
    "- If you have data that doesn't change, implementing it as tuple will guarantee that it remains write-protected."
   ]
  },
  {
   "cell_type": "markdown",
   "id": "4ae8e27c-da53-4f6d-8506-9687bda622f0",
   "metadata": {},
   "source": [
    "# Q3.  Which collection datatypes in python do not allow duplicate items? Write a code using a set to remove  duplicates from the given list. \n",
    "List = [1, 1, 1, 2, 1, 3, 1, 4, 2, 1, 2, 2, 2, 3, 2, 4, 3, 1, 3, 2, 3, 3, 3, 4, 4, 1, 4, 2, 4, 3, 4, 4] \n"
   ]
  },
  {
   "cell_type": "markdown",
   "id": "95184a4f-10fb-44c5-8f00-237fbc7d84c1",
   "metadata": {},
   "source": [
    "Ans: Sets are a collection that is unordered and unindexed. They are mutable (changeable) but do not allow duplicate values to be held.\n"
   ]
  },
  {
   "cell_type": "code",
   "execution_count": 3,
   "id": "678fc4f1-b49f-473b-a67b-183b6e4dcba4",
   "metadata": {},
   "outputs": [
    {
     "name": "stdout",
     "output_type": "stream",
     "text": [
      "[1, 2, 3, 4]\n"
     ]
    }
   ],
   "source": [
    "List = [1, 1, 1, 2, 1, 3, 1, 4, 2, 1, 2, 2, 2, 3, 2, 4, 3, 1, 3, 2, 3, 3, 3, 4, 4, 1, 4, 2, 4, 3, 4, 4] \n",
    "s = set(List)\n",
    "print(list(s))"
   ]
  },
  {
   "cell_type": "markdown",
   "id": "a1cdbbe7-aeaf-40f6-8fbe-da6fd8d29138",
   "metadata": {},
   "source": [
    "# Q4. Explain the difference between the union() and update() methods for a set. Give an example of  each method. \n"
   ]
  },
  {
   "cell_type": "markdown",
   "id": "64199b27-6400-4ccf-abe1-be02b1693d6f",
   "metadata": {},
   "source": [
    "Ans: Both set.update() and set.union() perform the union operation. However, set.update() adds all missing elements to the set on which it is called whereas set.union() creates a new set. Consequently, the return value of set.update() is None (with side effects) and the return value of set.union() is a set (without side effects)."
   ]
  },
  {
   "cell_type": "code",
   "execution_count": 4,
   "id": "2a23b3bb-6163-4cd7-8214-7049a9c079d6",
   "metadata": {},
   "outputs": [
    {
     "data": {
      "text/plain": [
       "{1, 2, 3, 4, 5}"
      ]
     },
     "execution_count": 4,
     "metadata": {},
     "output_type": "execute_result"
    }
   ],
   "source": [
    "# example of the set.update() method:\n",
    "\n",
    "s = {1, 2, 3}\n",
    "s.update({4, 5})\n",
    "\n",
    "s\n"
   ]
  },
  {
   "cell_type": "code",
   "execution_count": 5,
   "id": "f778b56b-70d0-4b28-b814-8f9fca4c28a4",
   "metadata": {},
   "outputs": [
    {
     "data": {
      "text/plain": [
       "{1, 2, 3, 4, 5}"
      ]
     },
     "execution_count": 5,
     "metadata": {},
     "output_type": "execute_result"
    }
   ],
   "source": [
    "# xample of the set.union() method:\n",
    "s1 = {1, 2, 3}\n",
    "s1.union({4, 5})\n"
   ]
  },
  {
   "cell_type": "markdown",
   "id": "507f9ee6-2d3f-4ed7-8d85-085c28e62ed5",
   "metadata": {},
   "source": [
    "# Q5. What is a dictionary? Give an example. Also, state whether a dictionary is ordered or unordered. \n"
   ]
  },
  {
   "cell_type": "markdown",
   "id": "8561bc0a-5218-4328-a715-b8031eab3864",
   "metadata": {},
   "source": [
    "Ans: Dictionary is a collection of keys values, used to store data values in key:value pairs. A dictionary can be created by placing a sequence of elements within curly {} braces, separated by ‘comma’. Dictionary holds pairs of values, one being the Key and the other corresponding pair element being its Key:value. Values in a dictionary can be of any data type and can be duplicated, whereas keys can’t be repeated and must be immutable. \n",
    "\n",
    "As of Python version 3.7, dictionaries are ordered. In Python 3.6 and earlier, dictionaries are unordered.\n",
    "\n",
    "When we say that dictionaries are ordered, it means that the items have a defined order, and that order will not change.\n",
    "\n",
    "Unordered means that the items does not have a defined order, you cannot refer to an item by using an index."
   ]
  },
  {
   "cell_type": "code",
   "execution_count": 6,
   "id": "4bddc386-8a4a-4fc3-9bf4-29d26b419622",
   "metadata": {},
   "outputs": [
    {
     "data": {
      "text/plain": [
       "{1: 'One', 2: 'Two', 3: 'Three'}"
      ]
     },
     "execution_count": 6,
     "metadata": {},
     "output_type": "execute_result"
    }
   ],
   "source": [
    "#Example: Dictionary Objects\n",
    "\n",
    "numNames = {1:\"One\", 2: \"Two\", 3:\"Three\"}\n",
    "numNames"
   ]
  },
  {
   "cell_type": "markdown",
   "id": "66df5aa9-dee4-4aec-a485-9f91e803a57e",
   "metadata": {},
   "source": [
    "# Q6. Can we create a nested dictionary? If so, please give an example by creating a simple one-level  nested dictionary. \n"
   ]
  },
  {
   "cell_type": "markdown",
   "id": "b9a76abb-4397-40f0-ba46-78734bee1ef6",
   "metadata": {},
   "source": [
    "Ans: Yes we can create a nested dictionary. A nested dictionary is a dictionary inside a dictionary. Basically, it is a collection of dictionaries kept inside a single dictionary."
   ]
  },
  {
   "cell_type": "code",
   "execution_count": 7,
   "id": "a9cb291f-7d18-493f-9eb6-7f505e4e9130",
   "metadata": {},
   "outputs": [
    {
     "data": {
      "text/plain": [
       "{'student1': {'Name': 'Aman', 'Roll': '01', 'Class': '8'},\n",
       " 'student2': {'Name': 'Dhiren', 'Roll': '12', 'Class': '9'},\n",
       " 'student3': {'Name': 'Akash', 'Roll': '10', 'Class': '17'}}"
      ]
     },
     "execution_count": 7,
     "metadata": {},
     "output_type": "execute_result"
    }
   ],
   "source": [
    "#Example of nested dictionary\n",
    "\n",
    "school = {'student1': {'Name': 'Aman', 'Roll': '01', 'Class': '8'},\n",
    "     'student2': {'Name': 'Dhiren', 'Roll': '12', 'Class': '9'},\n",
    "     'student3': {'Name': 'Akash', 'Roll': '10', 'Class': '17'}}\n",
    "school"
   ]
  },
  {
   "cell_type": "markdown",
   "id": "3a64bd59-6b55-4832-8dbe-a79637f5974a",
   "metadata": {},
   "source": [
    "# Q7. Using setdefault() method, create key named topics in the given dictionary and also add the value of  the key as this list ['Python', 'Machine Learning’, 'Deep Learning'] \n",
    "## dict1 = {'language' : 'Python', 'course': 'Data Science Masters'} \n"
   ]
  },
  {
   "cell_type": "code",
   "execution_count": 3,
   "id": "ed42eb7a-98ce-4e93-8ba9-ee4aff3d26bf",
   "metadata": {},
   "outputs": [
    {
     "data": {
      "text/plain": [
       "{'language': 'Python', 'course': 'Data Science Masters'}"
      ]
     },
     "execution_count": 3,
     "metadata": {},
     "output_type": "execute_result"
    }
   ],
   "source": [
    "dict1 = {'language' : 'Python', 'course': 'Data Science Masters'} \n",
    "dict1"
   ]
  },
  {
   "cell_type": "code",
   "execution_count": 4,
   "id": "34b2db9d-4461-43ca-b773-3e34e6667704",
   "metadata": {},
   "outputs": [],
   "source": [
    "dict1.setdefault('topics')"
   ]
  },
  {
   "cell_type": "code",
   "execution_count": 5,
   "id": "c7b55a06-3703-4af4-9bd4-73ab7927e147",
   "metadata": {},
   "outputs": [
    {
     "data": {
      "text/plain": [
       "{'language': 'Python', 'course': 'Data Science Masters', 'topics': None}"
      ]
     },
     "execution_count": 5,
     "metadata": {},
     "output_type": "execute_result"
    }
   ],
   "source": [
    "dict1"
   ]
  },
  {
   "cell_type": "code",
   "execution_count": 6,
   "id": "3ab8de22-f44c-4b6d-8f3f-62186146d268",
   "metadata": {},
   "outputs": [],
   "source": [
    "dict1['topics'] = ['Python' , 'Machine Learning' , 'Deep Learning']"
   ]
  },
  {
   "cell_type": "code",
   "execution_count": 7,
   "id": "1a8fbc21-bef6-4d80-963e-9f38787bb754",
   "metadata": {},
   "outputs": [
    {
     "data": {
      "text/plain": [
       "{'language': 'Python',\n",
       " 'course': 'Data Science Masters',\n",
       " 'topics': ['Python', 'Machine Learning', 'Deep Learning']}"
      ]
     },
     "execution_count": 7,
     "metadata": {},
     "output_type": "execute_result"
    }
   ],
   "source": [
    "dict1"
   ]
  },
  {
   "cell_type": "markdown",
   "id": "cfcc0139-d411-4b88-b29a-2dce0c9bfa6d",
   "metadata": {},
   "source": [
    "# Q8. What are the three view objects in dictionaries? Use the three in-built methods in python to display these three view objects for the given dictionary.\n",
    "## dict1 = {'Sport': 'Cricket' , 'Teams': ['India', 'Australia', 'England', 'South Africa', 'Sri Lanka', 'New Zealand']}"
   ]
  },
  {
   "cell_type": "markdown",
   "id": "b23475c7-9006-4590-b98e-cb6c89f66b94",
   "metadata": {},
   "source": [
    "Ans: In the python dictionaries, some of the methods return view objects. This view objects are dynamic view objects, meaning that when we made some changes in the dictionary then the view reflects all these changes.\n",
    "\n",
    "The main view objects of dictionary in python are keys, values and items. They provide a non-constant view of the dictionary’s entries."
   ]
  },
  {
   "cell_type": "code",
   "execution_count": 8,
   "id": "fff8a11c-164c-4387-b66b-ce65643e6f73",
   "metadata": {},
   "outputs": [],
   "source": [
    "dict1 = {'Sport': 'Cricket' , 'Teams': ['India', 'Australia', 'England', 'South Africa', 'Sri Lanka', 'New Zealand']}"
   ]
  },
  {
   "cell_type": "code",
   "execution_count": 9,
   "id": "24c37a99-fd4b-4def-86fe-cb33f714222d",
   "metadata": {},
   "outputs": [
    {
     "data": {
      "text/plain": [
       "{'Sport': 'Cricket',\n",
       " 'Teams': ['India',\n",
       "  'Australia',\n",
       "  'England',\n",
       "  'South Africa',\n",
       "  'Sri Lanka',\n",
       "  'New Zealand']}"
      ]
     },
     "execution_count": 9,
     "metadata": {},
     "output_type": "execute_result"
    }
   ],
   "source": [
    "dict1"
   ]
  },
  {
   "cell_type": "code",
   "execution_count": 10,
   "id": "f011c8d7-3997-4df8-998b-e3896029354b",
   "metadata": {},
   "outputs": [
    {
     "data": {
      "text/plain": [
       "dict_keys(['Sport', 'Teams'])"
      ]
     },
     "execution_count": 10,
     "metadata": {},
     "output_type": "execute_result"
    }
   ],
   "source": [
    "dict1.keys()"
   ]
  },
  {
   "cell_type": "code",
   "execution_count": 11,
   "id": "d81d0831-7acf-4d73-9d1f-5329c957d24f",
   "metadata": {},
   "outputs": [
    {
     "data": {
      "text/plain": [
       "dict_values(['Cricket', ['India', 'Australia', 'England', 'South Africa', 'Sri Lanka', 'New Zealand']])"
      ]
     },
     "execution_count": 11,
     "metadata": {},
     "output_type": "execute_result"
    }
   ],
   "source": [
    "dict1.values()"
   ]
  },
  {
   "cell_type": "code",
   "execution_count": 12,
   "id": "7ddf5fc8-3a09-4ca9-9425-3a205c7b91a9",
   "metadata": {},
   "outputs": [
    {
     "data": {
      "text/plain": [
       "dict_items([('Sport', 'Cricket'), ('Teams', ['India', 'Australia', 'England', 'South Africa', 'Sri Lanka', 'New Zealand'])])"
      ]
     },
     "execution_count": 12,
     "metadata": {},
     "output_type": "execute_result"
    }
   ],
   "source": [
    "dict1.items()"
   ]
  }
 ],
 "metadata": {
  "kernelspec": {
   "display_name": "Python 3 (ipykernel)",
   "language": "python",
   "name": "python3"
  },
  "language_info": {
   "codemirror_mode": {
    "name": "ipython",
    "version": 3
   },
   "file_extension": ".py",
   "mimetype": "text/x-python",
   "name": "python",
   "nbconvert_exporter": "python",
   "pygments_lexer": "ipython3",
   "version": "3.10.8"
  }
 },
 "nbformat": 4,
 "nbformat_minor": 5
}
