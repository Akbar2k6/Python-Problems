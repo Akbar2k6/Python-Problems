{
 "cells": [
  {
   "cell_type": "markdown",
   "id": "fc6d267c",
   "metadata": {},
   "source": [
    "# 1. Write a program to accept percentage from the user and display the grade according to the following \n",
    "|**Marks**|**Grade**|\n",
    "|-|-|\n",
    "|>90|A|\n",
    "|>80 and <=90|B|\n",
    "|>=60 and <=80|C|\n",
    "|below 60|D|"
   ]
  },
  {
   "cell_type": "code",
   "execution_count": 9,
   "id": "dee78988",
   "metadata": {},
   "outputs": [
    {
     "name": "stdout",
     "output_type": "stream",
     "text": [
      "Submit your percentage: 87\n",
      "Your grade is: B\n"
     ]
    }
   ],
   "source": [
    "a = int(input('Submit your percentage: '))\n",
    "\n",
    "if a > 90:\n",
    "    print('Your grade is: A')\n",
    "elif a > 80 and a <= 90: \n",
    "    print('Your grade is: B')\n",
    "elif a >= 60 and a <= 80:\n",
    "    print('Your grade is: C')\n",
    "else: \n",
    "    print('Your grade is: D')"
   ]
  },
  {
   "cell_type": "markdown",
   "id": "14a80f9c",
   "metadata": {},
   "source": [
    "# 2. Write a program to accept the cost price of a bike and display the road tax to be paid according to the following criteria\n",
    "\n",
    "|**Tax**|**Cost Price(in Rs)**|\n",
    "|-|-|\n",
    "|15%| >100000 | \n",
    "|10%| 50000 and <= 100000 |\n",
    "|5%| <= 50000 |\n",
    "\n"
   ]
  },
  {
   "cell_type": "code",
   "execution_count": 1,
   "id": "cd0ec1a0",
   "metadata": {},
   "outputs": [
    {
     "name": "stdout",
     "output_type": "stream",
     "text": [
      "Cost price of a bike: 100000\n",
      "road tax:  10000.0\n"
     ]
    }
   ],
   "source": [
    "c = int(input('Cost price of a bike: '))\n",
    "\n",
    "if c > 100000:\n",
    "    print('road tax: ', 0.15 *  c )\n",
    "elif c > 50000 and c <= 100000:\n",
    "    print('road tax: ', 0.1 * c)\n",
    "elif c <= 50000:\n",
    "    print('road tax: ', 0.05 * c)\n",
    "                 "
   ]
  },
  {
   "cell_type": "markdown",
   "id": "04a109bc",
   "metadata": {},
   "source": [
    "# 3. Accept any city from the user and display monuments of that city. \n",
    "\n",
    "|**City**|**Monument**|\n",
    "|-|-|\n",
    "|Delhi|Red Fort|\n",
    "|Agra|Taj Mahal|\n",
    "|Jaipur|Jal Mahal|"
   ]
  },
  {
   "cell_type": "code",
   "execution_count": 2,
   "id": "25418bea",
   "metadata": {},
   "outputs": [
    {
     "name": "stdout",
     "output_type": "stream",
     "text": [
      "Enter City Name: Delhi\n",
      "Monument:  Red Fort\n"
     ]
    }
   ],
   "source": [
    "City = input('Enter City Name: ')\n",
    "if City == 'Delhi':\n",
    "    print('Monument: ', 'Red Fort')\n",
    "elif City == 'Agra':\n",
    "    print('Monument: ', 'Taj Mahal')\n",
    "elif City == 'Jaipur':\n",
    "    print('Monument: ', 'Jal Mahal')\n",
    "else:\n",
    "    print('Enter Valid City Name')"
   ]
  },
  {
   "cell_type": "markdown",
   "id": "3be54d64",
   "metadata": {},
   "source": [
    "# 4. Check how many times a given number can be divided by 3 before it is less than or equal to 10. "
   ]
  },
  {
   "cell_type": "code",
   "execution_count": 3,
   "id": "6085a570",
   "metadata": {},
   "outputs": [
    {
     "name": "stdout",
     "output_type": "stream",
     "text": [
      "99\n",
      "3\n"
     ]
    }
   ],
   "source": [
    "n = int(input())\n",
    "c = 0\n",
    "while True:\n",
    "    q = n//3\n",
    "    n = q\n",
    "    c = c + 1\n",
    "    if q <= 10:\n",
    "        break\n",
    "print(c)"
   ]
  },
  {
   "cell_type": "markdown",
   "id": "adb34b04",
   "metadata": {},
   "source": [
    "# 5. Why and When to Use while Loop in Python give a detailed description with example "
   ]
  },
  {
   "cell_type": "markdown",
   "id": "68521d31",
   "metadata": {},
   "source": [
    "Ans: With the while loop we can execute a set of statements as long as a condition is true. And when the condition becomes false, the line immediately after the loop in the program is executed.\n",
    "\n",
    "The syntax of while loop is:\n",
    "\n",
    "while condition:\n",
    "    # body of while loop\n",
    "Here,\n",
    "\n",
    "1. A while loop evaluates the condition\n",
    "2. If the condition evaluates to True, the code inside the while loop is executed.\n",
    "3. condition is evaluated again.\n",
    "4. This process continues until the condition is False.\n",
    "5. When condition evaluates to False, the loop stops.\n",
    "\n",
    "Example: Python while Loop\n",
    "\n",
    "program to display numbers from 1 to 5\n",
    "\n",
    "initialize the variable\n",
    "\n",
    "i = 1\n",
    "n = 5\n",
    "\n",
    "while loop from i = 1 to 5\n",
    "\n",
    "while i <= n:\n",
    "    print(i)\n",
    "    i = i + 1\n",
    "\n",
    "\n",
    "Output\n",
    "\n",
    "1\n",
    "2\n",
    "3\n",
    "4\n",
    "5\n",
    "\n",
    "\n",
    "\n"
   ]
  },
  {
   "cell_type": "markdown",
   "id": "d44d4217",
   "metadata": {},
   "source": [
    "# 6. Use nested while loop to print 3 different pattern. "
   ]
  },
  {
   "cell_type": "code",
   "execution_count": 4,
   "id": "a32260b6",
   "metadata": {},
   "outputs": [
    {
     "name": "stdout",
     "output_type": "stream",
     "text": [
      "* * * * * \n",
      "* * * * * \n",
      "* * * * * \n",
      "* * * * * \n",
      "* * * * * \n"
     ]
    }
   ],
   "source": [
    "i=1\n",
    "while i<=5:\n",
    "    j=1\n",
    "    while j<=5:\n",
    "        print('*' , end = ' ')\n",
    "        j = j + 1\n",
    "    print()\n",
    "    i = i + 1\n"
   ]
  },
  {
   "cell_type": "code",
   "execution_count": 5,
   "id": "00ab006d",
   "metadata": {},
   "outputs": [
    {
     "name": "stdout",
     "output_type": "stream",
     "text": [
      "* \n",
      "* * \n",
      "* * * \n",
      "* * * * \n",
      "* * * * * \n"
     ]
    }
   ],
   "source": [
    "i=1\n",
    "while i<=5:\n",
    "    j=1\n",
    "    while j<=i:\n",
    "        print('*' , end = ' ')\n",
    "        j = j + 1\n",
    "    print()\n",
    "    i = i + 1"
   ]
  },
  {
   "cell_type": "code",
   "execution_count": 6,
   "id": "bca1db77",
   "metadata": {},
   "outputs": [
    {
     "name": "stdout",
     "output_type": "stream",
     "text": [
      "* * * * * \n",
      "* * * * \n",
      "* * * \n",
      "* * \n",
      "* \n"
     ]
    }
   ],
   "source": [
    "i=1\n",
    "while i<=5:\n",
    "    j=1\n",
    "    while j<=6-i:\n",
    "        print('*' , end = ' ')\n",
    "        j = j + 1\n",
    "    print()\n",
    "    i = i + 1"
   ]
  },
  {
   "cell_type": "markdown",
   "id": "1bf73f90",
   "metadata": {},
   "source": [
    "# 7. Reverse a while loop to display numbers from 10 to 1. "
   ]
  },
  {
   "cell_type": "code",
   "execution_count": 7,
   "id": "c8900a9a",
   "metadata": {},
   "outputs": [
    {
     "name": "stdout",
     "output_type": "stream",
     "text": [
      "10\n",
      "9\n",
      "8\n",
      "7\n",
      "6\n",
      "5\n",
      "4\n",
      "3\n",
      "2\n",
      "1\n"
     ]
    }
   ],
   "source": [
    "i = 10\n",
    "while i > 0:\n",
    "    print(i)\n",
    "    i = i - 1"
   ]
  },
  {
   "cell_type": "markdown",
   "id": "1319eeab",
   "metadata": {},
   "source": [
    "# 8. Reverse a while loop to display numbers from 10 to 1. "
   ]
  },
  {
   "cell_type": "code",
   "execution_count": 8,
   "id": "ed1b861f",
   "metadata": {},
   "outputs": [
    {
     "name": "stdout",
     "output_type": "stream",
     "text": [
      "10\n",
      "9\n",
      "8\n",
      "7\n",
      "6\n",
      "5\n",
      "4\n",
      "3\n",
      "2\n",
      "1\n"
     ]
    }
   ],
   "source": [
    "i = 10\n",
    "while i > 0:\n",
    "    print(i)\n",
    "    i = i - 1"
   ]
  }
 ],
 "metadata": {
  "kernelspec": {
   "display_name": "Python 3 (ipykernel)",
   "language": "python",
   "name": "python3"
  },
  "language_info": {
   "codemirror_mode": {
    "name": "ipython",
    "version": 3
   },
   "file_extension": ".py",
   "mimetype": "text/x-python",
   "name": "python",
   "nbconvert_exporter": "python",
   "pygments_lexer": "ipython3",
   "version": "3.9.12"
  }
 },
 "nbformat": 4,
 "nbformat_minor": 5
}
